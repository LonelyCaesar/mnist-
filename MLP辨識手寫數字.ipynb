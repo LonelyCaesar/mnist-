{
 "cells": [
  {
   "cell_type": "code",
   "execution_count": 1,
   "metadata": {},
   "outputs": [
    {
     "name": "stderr",
     "output_type": "stream",
     "text": [
      "Using TensorFlow backend.\n",
      "C:\\Users\\hello\\AppData\\Roaming\\Python\\Python36\\site-packages\\tensorflow\\python\\framework\\dtypes.py:523: FutureWarning: Passing (type, 1) or '1type' as a synonym of type is deprecated; in a future version of numpy, it will be understood as (type, (1,)) / '(1,)type'.\n",
      "  _np_qint8 = np.dtype([(\"qint8\", np.int8, 1)])\n",
      "C:\\Users\\hello\\AppData\\Roaming\\Python\\Python36\\site-packages\\tensorflow\\python\\framework\\dtypes.py:524: FutureWarning: Passing (type, 1) or '1type' as a synonym of type is deprecated; in a future version of numpy, it will be understood as (type, (1,)) / '(1,)type'.\n",
      "  _np_quint8 = np.dtype([(\"quint8\", np.uint8, 1)])\n",
      "C:\\Users\\hello\\AppData\\Roaming\\Python\\Python36\\site-packages\\tensorflow\\python\\framework\\dtypes.py:525: FutureWarning: Passing (type, 1) or '1type' as a synonym of type is deprecated; in a future version of numpy, it will be understood as (type, (1,)) / '(1,)type'.\n",
      "  _np_qint16 = np.dtype([(\"qint16\", np.int16, 1)])\n",
      "C:\\Users\\hello\\AppData\\Roaming\\Python\\Python36\\site-packages\\tensorflow\\python\\framework\\dtypes.py:526: FutureWarning: Passing (type, 1) or '1type' as a synonym of type is deprecated; in a future version of numpy, it will be understood as (type, (1,)) / '(1,)type'.\n",
      "  _np_quint16 = np.dtype([(\"quint16\", np.uint16, 1)])\n",
      "C:\\Users\\hello\\AppData\\Roaming\\Python\\Python36\\site-packages\\tensorflow\\python\\framework\\dtypes.py:527: FutureWarning: Passing (type, 1) or '1type' as a synonym of type is deprecated; in a future version of numpy, it will be understood as (type, (1,)) / '(1,)type'.\n",
      "  _np_qint32 = np.dtype([(\"qint32\", np.int32, 1)])\n",
      "C:\\Users\\hello\\AppData\\Roaming\\Python\\Python36\\site-packages\\tensorflow\\python\\framework\\dtypes.py:532: FutureWarning: Passing (type, 1) or '1type' as a synonym of type is deprecated; in a future version of numpy, it will be understood as (type, (1,)) / '(1,)type'.\n",
      "  np_resource = np.dtype([(\"resource\", np.ubyte, 1)])\n"
     ]
    },
    {
     "name": "stdout",
     "output_type": "stream",
     "text": [
      "_________________________________________________________________\n",
      "Layer (type)                 Output Shape              Param #   \n",
      "=================================================================\n",
      "dense_1 (Dense)              (None, 50)                39250     \n",
      "_________________________________________________________________\n",
      "dense_2 (Dense)              (None, 10)                510       \n",
      "_________________________________________________________________\n",
      "activation_1 (Activation)    (None, 10)                0         \n",
      "=================================================================\n",
      "Total params: 39,760\n",
      "Trainable params: 39,760\n",
      "Non-trainable params: 0\n",
      "_________________________________________________________________\n"
     ]
    }
   ],
   "source": [
    "import os\n",
    "os.environ['TF_CPP_MIN_LOG_LEVEL'] = '2'\n",
    "from keras.datasets import mnist\n",
    "from keras.models import Sequential\n",
    "from keras.layers import Dense, Activation, Dropout\n",
    "from keras.utils import np_utils\n",
    "import numpy as np\n",
    "%matplotlib inline\n",
    "import matplotlib.pyplot as plt\n",
    "(x_train_image, y_train_label), (x_test_image, y_test_label) = mnist.load_data()\n",
    "nb_classes = 10 # 類別的數目\n",
    "x_train_image = x_train_image.reshape(60000, 784).astype('float32')\n",
    "x_test_image = x_test_image.reshape(10000, 784).astype('float32')\n",
    "x_train_image /= 255\n",
    "x_test_image /= 255\n",
    "y_train_cat = np_utils.to_categorical(y_train_label, nb_classes)\n",
    "y_test_cat = np_utils.to_categorical(y_test_label, nb_classes)\n",
    "model = Sequential()\n",
    "model.add(Dense(50, input_shape=(784,)))\n",
    "model.add(Dense(units=nb_classes))\n",
    "model.add(Activation('softmax'))\n",
    "model.compile(loss='categorical_crossentropy', optimizer='SGD', metrics=['accuracy'])\n",
    "model.summary()"
   ]
  },
  {
   "cell_type": "code",
   "execution_count": 2,
   "metadata": {},
   "outputs": [
    {
     "name": "stdout",
     "output_type": "stream",
     "text": [
      "Epoch 1/10\n",
      "60000/60000 [==============================] - 0s 8us/step - loss: 1.0006 - acc: 0.7492\n",
      "Epoch 2/10\n",
      "60000/60000 [==============================] - 0s 6us/step - loss: 0.5269 - acc: 0.8648\n",
      "Epoch 3/10\n",
      "60000/60000 [==============================] - 0s 6us/step - loss: 0.4404 - acc: 0.8810\n",
      "Epoch 4/10\n",
      "60000/60000 [==============================] - 0s 6us/step - loss: 0.4004 - acc: 0.8893\n",
      "Epoch 5/10\n",
      "60000/60000 [==============================] - 0s 6us/step - loss: 0.3767 - acc: 0.8951\n",
      "Epoch 6/10\n",
      "60000/60000 [==============================] - 0s 6us/step - loss: 0.3606 - acc: 0.8986\n",
      "Epoch 7/10\n",
      "60000/60000 [==============================] - 0s 6us/step - loss: 0.3490 - acc: 0.9017\n",
      "Epoch 8/10\n",
      "60000/60000 [==============================] - 0s 6us/step - loss: 0.3398 - acc: 0.9045\n",
      "Epoch 9/10\n",
      "60000/60000 [==============================] - 0s 6us/step - loss: 0.3325 - acc: 0.9064\n",
      "Epoch 10/10\n",
      "60000/60000 [==============================] - 0s 6us/step - loss: 0.3265 - acc: 0.9081\n"
     ]
    }
   ],
   "source": [
    "epochs = 10\n",
    "history = model.fit(x_train_image,\n",
    "y_train_cat,\n",
    "epochs=epochs,\n",
    "batch_size=128,\n",
    "verbose=1)"
   ]
  },
  {
   "cell_type": "code",
   "execution_count": 3,
   "metadata": {},
   "outputs": [
    {
     "name": "stdout",
     "output_type": "stream",
     "text": [
      "accuracy = 91.32%\n"
     ]
    },
    {
     "data": {
      "image/png": "[encoded data removed]",
      "text/plain": [
       "<Figure size 576x432 with 1 Axes>"
      ]
     },
     "metadata": {
      "needs_background": "light"
     },
     "output_type": "display_data"
    },
    {
     "data": {
      "image/png": "[encoded data removed]",
      "text/plain": [
       "<Figure size 576x432 with 1 Axes>"
      ]
     },
     "metadata": {
      "needs_background": "light"
     },
     "output_type": "display_data"
    }
   ],
   "source": [
    "plt.figure(figsize=(8,6))\n",
    "plt.plot(history.epoch,history.history['loss'])\n",
    "plt.title('loss')\n",
    "\n",
    "plt.figure(figsize=(8,6))\n",
    "plt.plot(history.epoch,history.history['acc'])\n",
    "plt.title('acc')\n",
    "\n",
    "scores = model.evaluate(x_test_image, y_test_cat, verbose=2)\n",
    "print(\"accuracy = {:2.2f}%\".format(scores[1]*100.0))"
   ]
  },
  {
   "cell_type": "code",
   "execution_count": null,
   "metadata": {},
   "outputs": [],
   "source": []
  }
 ],
 "metadata": {
  "kernelspec": {
   "display_name": "Python 3",
   "language": "python",
   "name": "python3"
  },
  "language_info": {
   "codemirror_mode": {
    "name": "ipython",
    "version": 3
   },
   "file_extension": ".py",
   "mimetype": "text/x-python",
   "name": "python",
   "nbconvert_exporter": "python",
   "pygments_lexer": "ipython3",
   "version": "3.6.13"
  }
 },
 "nbformat": 4,
 "nbformat_minor": 4
}
